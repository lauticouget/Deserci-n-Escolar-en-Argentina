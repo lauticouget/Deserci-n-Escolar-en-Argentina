{
 "cells": [
  {
   "cell_type": "markdown",
   "id": "49042763-0aff-4f03-87f3-870a994379eb",
   "metadata": {},
   "source": [
    "# La EPH\r\n",
    "\r\n",
    "La [Encuesta Permanente de Hogares (EPH)](https://www.indec.gob.ar/indec/web/Institucional-Indec-BasesDeDatos), es una encuesta continua y periódica realizada por el [Instituto Estadísticas y Censos Nacionales (INDEC) de Argentina](https://www.indec.gob.ar). La EPH proporciona información sobre las características sociales, económicas y demográficas de hogares e individuos de 32 aglomerados urbanos de Argentina. La encuesta se realiza trimestralmente en una muestra de aproximadamente 30.000 hogares ubicados en todo el país.\r\n",
    "\r\n",
    "La EPH recopila datos sobre una amplia gama de temas, que incluyen:\r\n",
    "\r\n",
    "* Características del hogar: tamaño, composición, tenencia y acceso a servicios básicos.\r\n",
    "* Características individuales: edad, sexo, educación, estado civil, situación laboral e ingresos.\r\n",
    "* Ingresos y gastos: ingresos del hogar, ingresos individuales y gastos del hogar.\r\n",
    "* Acceso a servicios de salud: seguro médico, uso de servicios preventivos y satisfacción con la atención médica.\r\n",
    "* Acceso a la educación: matrícula escolar, tasas de asistencia y logros educativos.\r\n",
    "* Condiciones de vivienda: tipo de vivienda, tasas de ocupación y acceso a servici\n",
    "\n",
    "En esta notebook se toman las encuestas de 2021 y 2022 para construir y analizar una muestra de tipo panel sobre deserción escolar: se seleccionan personas que en un dado trimestre de 2021 se encontrasen estudiando en alguno de los niveles obligatorios del sistema educativo, y que al año siiguiente hayan desertado.\n",
    "\n",
    "## Cómo acceder a los datos\r\n",
    "\r\n",
    "Para acceder a los datos de la EPH podemos usar el paquete [pyeph](https://pyeph.readthedocs.io/es/latest/) del [Instituto Humai](https://humai.com.ar/), aunque las bases también se pueden [descargar](https://www.indec.gob.ar/indec/web/Institucional-Indec-BasesDeDatos) directamente desde la página del INDEC. El paquete pyeph tiene un módulo llamado `get()` que maneja la descarga e importación de datos en un DataFrame de pandas\n",
    "### Estructura de la EPH.\r\n",
    "\r\n",
    "Para cada trimestre del año, la EPH cuenta con dos bases de datos distintas:\r\n",
    "* __Base de datos de hogares__: recoge información de cada hogar (como número de miembros, ingresos, características edilicias, etc.). *Cada registro de la base de datos/fila del dataframe tiene información de un hogar*.\r\n",
    "* __Base de datos de individuos__: recopila información de cada persona que vive en cada hogar (como edad, ingresos, nivel educativo, etc.). *Cada registro de la base de datos/fila del dataframe tiene información de un individuo*os básicos."
   ]
  },
  {
   "cell_type": "code",
   "execution_count": 1,
   "id": "64d4f802-806d-4986-bd4d-5e907ef64974",
   "metadata": {},
   "outputs": [],
   "source": [
    "import pyeph\n",
    "import numpy as np\n",
    "import pandas as pd"
   ]
  },
  {
   "cell_type": "code",
   "execution_count": 2,
   "id": "985b059b-7513-4d11-ba32-4ca31d8633d2",
   "metadata": {},
   "outputs": [
    {
     "name": "stdout",
     "output_type": "stream",
     "text": [
      "100% [............................................................................] 561475 / 561475\n",
      "Obtenido con exito: base_hogar_2021T2.zip \n",
      "100% [..........................................................................] 2195954 / 2195954\n",
      "Obtenido con exito: base_individual_2021T2.zip \n",
      "100% [............................................................................] 704099 / 704099\n",
      "Obtenido con exito: base_hogar_2022T2.zip \n",
      "100% [..........................................................................] 2622089 / 2622089\n",
      "Obtenido con exito: base_individual_2022T2.zip \n"
     ]
    }
   ],
   "source": [
    "# empezamos con el segundo trimestre\n",
    "hogares21_2 = pyeph.get(data=\"eph\", year=2021, period=2, base_type='hogar')\n",
    "individuos21_2 = pyeph.get(data=\"eph\", year=2021, period=2, base_type='individual')\n",
    "hogares22_2 = pyeph.get(data=\"eph\", year=2022, period=2, base_type='hogar')\n",
    "individuos22_2 = pyeph.get(data=\"eph\", year=2022, period=2, base_type='individual')"
   ]
  },
  {
   "cell_type": "markdown",
   "id": "5a007030-a608-4c52-befc-8fc4ee87af20",
   "metadata": {},
   "source": [
    "Las bases de datos de hogares (`hogares21_2` y `hogares22_2`) tienen 88 columnas. El INDEC publica periódicamente [documentación](https://www.indec.gob.ar/ftp/cuadros/menusuperior/eph/EPH_registro_2T2022.pdf) con el diseño del registro y la composición de la estructura de las bases preliminares correspondientes al relevamiento. Este es un resumen de los diferentes campos:\r\n",
    "\r\n",
    "* CODUSU: identificación del lugar de residencia.\r\n",
    "* NRO_HOGAR: un ID de la vivienda. Una residencia puede contener más de una vivienda/hogar (es decir, más de una familia puede vivir en el mismo edificio). _Nota: los campos CODUSU y NRO_HOGAR se pueden utilizar para identificar y vincular las bases de datos de hogares e individuos._\r\n",
    "* ANO4: año en que se realizó la encuesta.\r\n",
    "* TRIMESTRE: trimestre en que se realizó la encuesta.\r\n",
    "* REALIZADA: si la encuesta se realizó o no para eso dado CODUSU y NRO_HOGAR\r\n",
    "* REGIÓN: región geográfica del lugar de residencia.\r\n",
    "* MAS_500: si la aglomeración urbana tiene más de 500.000 habitantes.\r\n",
    "* AGLOMERADO: nombre del aglomerado urbano.\r\n",
    "* PONDERA: la eph es una encuesta por muestreo, este campo es el factor de ponderación de cada muestra.\r\n",
    "* IVn (con n entre 1 y 12): se utiliza para indicar características del lugar donde se habita, como el tipo de edificio (casa, departamento, habitación, etc.), materiales del piso, acceso a agua potable, etc. Columnas con un guión bajo (como IV7_ESP) se utiliza para ampliar la información de la columna anterior (principalmente para preguntas que tienen una opción \"otro\" como respuesta).\r\n",
    "* IIVn (con n entre 1 y 9): se utiliza para indicar características de la vivienda, como número de habitaciones, si hay cocina independiente, etc.\r\n",
    "* Vn (con n entre 1 y 19): se utiliza para indicar estrategias y condiciones de vida del hogar, como por ejemplo si los miembros del hogar viven con su salario/ingresos, o si tomaron un préstamo, etc.\r\n",
    "* IX_Tot: total de miembros del hogar.\r\n",
    "* IX_MEN10: número de socios menores de 10 años.\r\n",
    "* IX_MAYEQ10: número de afiliados de 10 o más años.\r\n",
    "* ITF: Ingreso total de los hogares en pesos argentinos.\r\n",
    "* DECIFR: Decil del ingreso total del hogar para toda la EPH.\r\n",
    "* IDECIFR: Decil del ingreso total de los hogares del interior de Argentina.\r\n",
    "* RDECIFR: Decil del ingreso total de los hogares de la región.\r\n",
    "* GDECIFR: Decil de ingresos totales de los hogares para el conjunto de aglomeraciones de 500.000 o más habitantes.\r\n",
    "* PDECIFR: Decil de renta total de los hogares para el conjunto de aglomeraciones de menos de 500.000 habitantes. |\r\n",
    "* ADECIFR: Decil del ingreso total de los hogares de la aglomeración.\r\n",
    "* IPCF: mide el ingreso per cápita de los hogares en pesos argentinos.\r\n",
    "* DECCFR: decil de ingreso per cápita del hogar para toda la EPH.\r\n",
    "* IDECCFR: decil de ingreso per cápita de los hogares del interior de Argentina.\r\n",
    "* RDECCFR: decil de ingreso per cápita de los hogares de la región.\r\n",
    "* GDECCFR: decil de renta per cápita de los hogares para el conjunto de aglomeraciones de 500.000 o más habitantes.\r\n",
    "* PDECCFR: decil de renta per cápita de los hogares para el conjunto de aglomeraciones de menos de 500.000 habitantes.\r\n",
    "* ADECCFR: decil de ingreso per cápita de los hogares de la aglomeración.\r\n",
    "* PONDIH; el factor de ponderación del ingreso del hogar y el ingreso per cápita."
   ]
  },
  {
   "cell_type": "code",
   "execution_count": 4,
   "id": "ddc28d72-ed94-4111-9374-06afb421541f",
   "metadata": {},
   "outputs": [
    {
     "name": "stdout",
     "output_type": "stream",
     "text": [
      "<class 'pandas.core.frame.DataFrame'>\n",
      "RangeIndex: 15620 entries, 0 to 15619\n",
      "Data columns (total 88 columns):\n",
      " #   Column      Non-Null Count  Dtype  \n",
      "---  ------      --------------  -----  \n",
      " 0   CODUSU      15620 non-null  object \n",
      " 1   ANO4        15620 non-null  int64  \n",
      " 2   TRIMESTRE   15620 non-null  int64  \n",
      " 3   NRO_HOGAR   15620 non-null  int64  \n",
      " 4   REALIZADA   15620 non-null  int64  \n",
      " 5   REGION      15620 non-null  int64  \n",
      " 6   MAS_500     15620 non-null  object \n",
      " 7   AGLOMERADO  15620 non-null  int64  \n",
      " 8   PONDERA     15620 non-null  int64  \n",
      " 9   IV1         15620 non-null  int64  \n",
      " 10  IV1_ESP     21 non-null     object \n",
      " 11  IV2         15620 non-null  int64  \n",
      " 12  IV3         15620 non-null  int64  \n",
      " 13  IV3_ESP     25 non-null     object \n",
      " 14  IV4         15620 non-null  int64  \n",
      " 15  IV5         15620 non-null  int64  \n",
      " 16  IV6         15620 non-null  int64  \n",
      " 17  IV7         15620 non-null  int64  \n",
      " 18  IV7_ESP     11 non-null     object \n",
      " 19  IV8         15620 non-null  int64  \n",
      " 20  IV9         15620 non-null  int64  \n",
      " 21  IV10        15620 non-null  int64  \n",
      " 22  IV11        15620 non-null  int64  \n",
      " 23  IV12_1      15620 non-null  int64  \n",
      " 24  IV12_2      15620 non-null  int64  \n",
      " 25  IV12_3      15620 non-null  int64  \n",
      " 26  II1         15620 non-null  int64  \n",
      " 27  II2         15620 non-null  int64  \n",
      " 28  II3         15620 non-null  int64  \n",
      " 29  II3_1       15620 non-null  int64  \n",
      " 30  II4_1       15620 non-null  int64  \n",
      " 31  II4_2       15620 non-null  int64  \n",
      " 32  II4_3       15620 non-null  int64  \n",
      " 33  II5         15620 non-null  int64  \n",
      " 34  II5_1       15620 non-null  int64  \n",
      " 35  II6         15620 non-null  int64  \n",
      " 36  II6_1       15620 non-null  int64  \n",
      " 37  II7         15620 non-null  int64  \n",
      " 38  II7_ESP     22 non-null     object \n",
      " 39  II8         15620 non-null  int64  \n",
      " 40  II8_ESP     112 non-null    object \n",
      " 41  II9         15620 non-null  int64  \n",
      " 42  V1          15620 non-null  int64  \n",
      " 43  V2          15620 non-null  int64  \n",
      " 44  V21         15620 non-null  int64  \n",
      " 45  V22         15620 non-null  int64  \n",
      " 46  V3          15620 non-null  int64  \n",
      " 47  V4          15620 non-null  int64  \n",
      " 48  V5          15620 non-null  int64  \n",
      " 49  V6          15620 non-null  int64  \n",
      " 50  V7          15620 non-null  int64  \n",
      " 51  V8          15620 non-null  int64  \n",
      " 52  V9          15620 non-null  int64  \n",
      " 53  V10         15620 non-null  int64  \n",
      " 54  V11         15620 non-null  int64  \n",
      " 55  V12         15620 non-null  int64  \n",
      " 56  V13         15620 non-null  int64  \n",
      " 57  V14         15620 non-null  int64  \n",
      " 58  V15         15620 non-null  int64  \n",
      " 59  V16         15620 non-null  int64  \n",
      " 60  V17         15620 non-null  int64  \n",
      " 61  V18         15620 non-null  int64  \n",
      " 62  V19_A       15620 non-null  int64  \n",
      " 63  V19_B       15620 non-null  int64  \n",
      " 64  IX_TOT      15620 non-null  int64  \n",
      " 65  IX_MEN10    15620 non-null  int64  \n",
      " 66  IX_MAYEQ10  15620 non-null  int64  \n",
      " 67  ITF         15620 non-null  int64  \n",
      " 68  DECIFR      15620 non-null  int64  \n",
      " 69  IDECIFR     14213 non-null  float64\n",
      " 70  RDECIFR     15620 non-null  int64  \n",
      " 71  GDECIFR     6691 non-null   float64\n",
      " 72  PDECIFR     8929 non-null   float64\n",
      " 73  ADECIFR     15620 non-null  int64  \n",
      " 74  IPCF        15620 non-null  object \n",
      " 75  DECCFR      15620 non-null  int64  \n",
      " 76  IDECCFR     14213 non-null  float64\n",
      " 77  RDECCFR     15620 non-null  int64  \n",
      " 78  GDECCFR     6691 non-null   float64\n",
      " 79  PDECCFR     8929 non-null   float64\n",
      " 80  ADECCFR     15620 non-null  int64  \n",
      " 81  PONDIH      15620 non-null  int64  \n",
      " 82  VII1_1      15620 non-null  int64  \n",
      " 83  VII1_2      15620 non-null  int64  \n",
      " 84  VII2_1      15620 non-null  int64  \n",
      " 85  VII2_2      15620 non-null  int64  \n",
      " 86  VII2_3      15620 non-null  int64  \n",
      " 87  VII2_4      15620 non-null  int64  \n",
      "dtypes: float64(6), int64(74), object(8)\n",
      "memory usage: 10.5+ MB\n"
     ]
    }
   ],
   "source": [
    "hogares21_2.info()"
   ]
  },
  {
   "cell_type": "markdown",
   "id": "edc7ede0-2ddf-4d44-912f-0cd147a277e4",
   "metadata": {},
   "source": [
    "Las bases de datos de individuos (`individuos21_2` y `individuos22_2`) tienen 177 columnas. Algunas de las primeras son las mismas que la base de datos de hogares (CODUSU, NRO_HOGAR, REGION, etc.). Después de eso, tenemos:\r\n",
    "\r\n",
    "* CH01 a CH16_COD: estas son algunas características clave de las personas involucradas, como por ejemplo si aportan el ingreso principal del hogar, su sexo, edad, nivel educativo, etc.\r\n",
    "* ESTADO: si la persona tiene trabajo, es inactiva o tiene menos de 10 años.\r\n",
    "* CAT_OCUP: se utiliza para indicar el tipo de trabajo de la persona (jefe, particular, empleado, trabajador familiar sin remuneración).\r\n",
    "* CAT_INAC: para personas inactivas, si son jubiladas, estudiantes, menores de 6 años, etc.\r\n",
    "* PP02C1 a PP11T: se refiere a características del trabajo (o falta de) de la persona.\r\n",
    "* P21: importe de la renta principal.\r\n",
    "* DECOCUR: decil del ingreso principal para toda la EPH.\r\n",
    "* IDECOCUR: decil de los ingresos totales del interior de la EPH.\r\n",
    "* RDECOCUR: decil del ingreso total de la región geográfica.\r\n",
    "* GDECOCUR: decil del ingreso total para el conjunto de aglomerados de 500.000 o más habitantes.\r\n",
    "* PDECOCUR: decil del ingreso total para el conjunto de aglomeraciones menores a 500.000 habitantes.\r\n",
    "* ADECOCUR: decil de ingresos principales del aglomerado.\r\n",
    "* PONDIIO: factor de ponderación de la renta principal.\r\n",
    "* P47T: ingreso individual total.\r\n",
    "* DECINDR: decil del ingreso individual total para toda la EPH\r\n",
    "* IDECINDR: decil del ingreso individual total del interior de Argentina.\r\n",
    "* RDECINDR: decil del ingreso individual total de la región.\r\n",
    "* GDECINDR: decil del ingreso individual total para el conjunto de aglomeraciones de 500.000 o más habitantes.\r\n",
    "* PDECINDR: decil del ingreso individual total para el conjunto de aglomeraciones de menos de 500.000 habitantes.\r\n",
    "* ADECINDR: decil del ingreso individual total del aglomerado.\r\n",
    "* PONDII: factor de ponderación del ingreso individual total."
   ]
  },
  {
   "cell_type": "code",
   "execution_count": 5,
   "id": "f46cab6b-7f83-427d-aee9-95f13f1f31e0",
   "metadata": {},
   "outputs": [
    {
     "data": {
      "text/plain": [
       "array(['CODUSU', 'ANO4', 'TRIMESTRE', 'NRO_HOGAR', 'COMPONENTE', 'H15',\n",
       "       'REGION', 'MAS_500', 'AGLOMERADO', 'PONDERA', 'CH03', 'CH04',\n",
       "       'CH05', 'CH06', 'CH07', 'CH08', 'CH09', 'CH10', 'CH11', 'CH12',\n",
       "       'CH13', 'CH14', 'CH15', 'CH15_COD', 'CH16', 'CH16_COD', 'NIVEL_ED',\n",
       "       'ESTADO', 'CAT_OCUP', 'CAT_INAC', 'IMPUTA', 'PP02C1', 'PP02C2',\n",
       "       'PP02C3', 'PP02C4', 'PP02C5', 'PP02C6', 'PP02C7', 'PP02C8',\n",
       "       'PP02E', 'PP02H', 'PP02I', 'PP03C', 'PP03D', 'PP3E_TOT',\n",
       "       'PP3F_TOT', 'PP03G', 'PP03H', 'PP03I', 'PP03J', 'INTENSI', 'PP04A',\n",
       "       'PP04B_COD', 'PP04B1', 'PP04B2', 'PP04B3_MES', 'PP04B3_ANO',\n",
       "       'PP04B3_DIA', 'PP04C', 'PP04C99', 'PP04D_COD', 'PP04G',\n",
       "       'PP05B2_MES', 'PP05B2_ANO', 'PP05B2_DIA', 'PP05C_1', 'PP05C_2',\n",
       "       'PP05C_3', 'PP05E', 'PP05F', 'PP05H', 'PP06A', 'PP06C', 'PP06D',\n",
       "       'PP06E', 'PP06H', 'PP07A', 'PP07C', 'PP07D', 'PP07E', 'PP07F1',\n",
       "       'PP07F2', 'PP07F3', 'PP07F4', 'PP07F5', 'PP07G1', 'PP07G2',\n",
       "       'PP07G3', 'PP07G4', 'PP07G_59', 'PP07H', 'PP07I', 'PP07J', 'PP07K',\n",
       "       'PP08D1', 'PP08D4', 'PP08F1', 'PP08F2', 'PP08J1', 'PP08J2',\n",
       "       'PP08J3', 'PP09A', 'PP09A_ESP', 'PP09B', 'PP09C', 'PP09C_ESP',\n",
       "       'PP10A', 'PP10C', 'PP10D', 'PP10E', 'PP11A', 'PP11B_COD', 'PP11B1',\n",
       "       'PP11B2_MES', 'PP11B2_ANO', 'PP11B2_DIA', 'PP11C', 'PP11C99',\n",
       "       'PP11D_COD', 'PP11G_ANO', 'PP11G_MES', 'PP11G_DIA', 'PP11L',\n",
       "       'PP11L1', 'PP11M', 'PP11N', 'PP11O', 'PP11P', 'PP11Q', 'PP11R',\n",
       "       'PP11S', 'PP11T', 'P21', 'DECOCUR', 'IDECOCUR', 'RDECOCUR',\n",
       "       'GDECOCUR', 'PDECOCUR', 'ADECOCUR', 'PONDIIO', 'TOT_P12', 'P47T',\n",
       "       'DECINDR', 'IDECINDR', 'RDECINDR', 'GDECINDR', 'PDECINDR',\n",
       "       'ADECINDR', 'PONDII', 'V2_M', 'V3_M', 'V4_M', 'V5_M', 'V8_M',\n",
       "       'V9_M', 'V10_M', 'V11_M', 'V12_M', 'V18_M', 'V19_AM', 'V21_M',\n",
       "       'T_VI', 'ITF', 'DECIFR', 'IDECIFR', 'RDECIFR', 'GDECIFR',\n",
       "       'PDECIFR', 'ADECIFR', 'IPCF', 'DECCFR', 'IDECCFR', 'RDECCFR',\n",
       "       'GDECCFR', 'PDECCFR', 'ADECCFR', 'PONDIH'], dtype=object)"
      ]
     },
     "execution_count": 5,
     "metadata": {},
     "output_type": "execute_result"
    }
   ],
   "source": [
    "individuos21_2.columns.values"
   ]
  },
  {
   "cell_type": "code",
   "execution_count": 6,
   "id": "967a448a-0c2a-4d17-a014-c7c11b85a946",
   "metadata": {},
   "outputs": [
    {
     "data": {
      "text/plain": [
       "(177,)"
      ]
     },
     "execution_count": 6,
     "metadata": {},
     "output_type": "execute_result"
    }
   ],
   "source": [
    "individuos21_2.columns.shape"
   ]
  },
  {
   "cell_type": "markdown",
   "id": "49452623-d241-4ec9-a154-1a3f186700e9",
   "metadata": {},
   "source": [
    "La EPH sigue una estructura llamada 2-2-2:\n",
    "* Un hogar es entrevistado durante dos trimestres consecutivos.\n",
    "* Ese hogar se retira de la muestra por dos trimestres.\n",
    "* El mismo hogar vuelve a entrevistarse dos trimestres consecutivos.\n",
    "\n",
    "De esta forma, la EPH permite hacer seguimientos longitudinales (de panel) de los integrandes de un mismo hogar en un período de un año y medio. Por las características de la muestra, existe un cierto solapamiento entre los trimestres de cada año y del año siguiente:\n",
    "* Entre un trimestre y el siguiente, hay un 50% de encuestados en común.\n",
    "* Entre un trimestre y otro, con un trimestre en el medio, no hay encuestados en común.\n",
    "* Entre un trimestre y otro, con dos trimestres en el medio, hay un 25% de encuestados en común.\n",
    "* Entre un trimestre y el mismo trimestre del año siguiente, hay un 50% de encuestados en común.\n",
    "\n"
   ]
  },
  {
   "cell_type": "markdown",
   "id": "eaa58393-765b-4547-aa4e-b8c5328a2e60",
   "metadata": {},
   "source": [
    "## Análisis\n",
    "\n",
    "La educación obligatoria en Argentina comprende 14 años consecutivos a partir de los 4 años: los dos últimos años del Nivel Inicial, el Nivel Primario (de 6 a 7 años según la jusrisdicción) y el Nivel Secundario (de 5 o 6 años dependiendo de la longitud del Nivel Primario). El país cuenta con una cobertura casi universal del Nivel Primario, con tasas de asistencia que se sitúan alrededor del 99%. En el Nivel Secundario la cobertura de la población de entre 12 y 19 años es casi universal en el Ciclo Básico (primeros dos años) y llega al 91% en el Ciclo Orientado. Sin embargo, aproximadamente el 20% de los jóvenes y adultos de entre 18 y 24 años no ha completado sus estudios obligatorios.\r",
    "oLas columnas denominadas CH10 a 16 y NIVEL_ED de la base de datos de individuos tienen información sobre educación y antecedentes migratorios. Por otro lado, las columnas CH03 a 09 tienen información personal como estado parental, edad, sexo, etc. Esta es una lista detallada de la información y valores de cada característica:\r\n",
    "\r\n",
    "* CH03: parentesco con el jefe de hogar (jefe, cónyuge/pareja, hijo, etc.).\r\n",
    "* CH04: género (masculino, femenino).\r\n",
    "* CH05: fecha de nacimiento (día, mes y año).\r\n",
    "* CH06: edad.\r\n",
    "* CH07: estado civil (casado, divorciado, soltero, etc.).\r\n",
    "* CH08: tipo de cobertura médica.\r\n",
    "* CH09: alfabetización.\r\n",
    "* CH10: Asistencia educativa (Sí; No, pero asisti.ó; Nunca)\r\n",
    "* CH11: Tipo de escuela (Pública, Privada, De.sconocida)\r\n",
    "* CH12: Nivel educativo más alto (Kindergarten, Primaria, Secund.aria, etc.)\r\n",
    "* CH13: Finalización del nivel más alto (Sí, No, .Desconocido)\r\n",
    "* CH14: Último año completado (Ninguno, Primero, S.egundo, etc.)\r\n",
    "* CH15: Lugar de nacimiento (Esta localidad, Otra localidad, Provincia, País limítrofe, Otro país., Desconocido)\r\n",
    "* CH15_Cod: Código específico para nacimiento no local (Provincia, País limítr.ofe, Otro país)\r\n",
    "* CH16: Residencia hace 5 años (Esta localidad, Otra localidad, Provincia, País limítrofe, Otro país, No naci.do, Desconocido)\r\n",
    "* CH16_Cod: Código específico de residencia no local hace 5 años (Provincia, País limí.trofe, Otro país)\r\n",
    "* NIVEL_ED: Nivel educativo general (Primaria Incompleta, Primaria completa, Sec, etc.).\n",
    "Incompleta, etc.)\n",
    "a."
   ]
  },
  {
   "cell_type": "markdown",
   "id": "1a6c5a57-2b24-4a1f-9ea7-037a5428d00b",
   "metadata": {},
   "source": [
    "Tomando eso en cuenta, construiremos un dataframe tomando los datos de las personas que hayan contestado estar estudiando durante el 2021, pero ya no lo hacen en 2022 y no hayan terminado su escolaridad obligatoria."
   ]
  },
  {
   "cell_type": "code",
   "execution_count": 36,
   "id": "7560aa47-9132-48ba-9f17-1471d40472aa",
   "metadata": {},
   "outputs": [],
   "source": [
    "cols = ['CODUSU', 'NRO_HOGAR', 'COMPONENTE', 'CH06', 'CH10', 'NIVEL_ED']\n",
    "# uno los dataframes por CODUSU, NRO_HOGAR y COMPONENTE\n",
    "_data = pd.merge(left=individuos21_2[cols],\n",
    "                      right=individuos22_2[cols],\n",
    "                      how='inner',\n",
    "                      on=['CODUSU', 'NRO_HOGAR', 'COMPONENTE'],\n",
    "                      suffixes=('_21', '_22'))\n",
    "\n",
    "cond_edad = 'CH06_21 >= 4' # inicio de la educación obligatoria\n",
    "cond_asistencia = 'CH10_21 == 1' # asiste a la escuela\n",
    "cond_desercion = 'CH10_22 == 2' # asistió a la escuela, pero ya no lo hace\n",
    "cond_nivel = 'NIVEL_ED_22 <= 3' # educación secundaria incompleta\n",
    "\n",
    "estudiantes21_2 = _data.query(f'{cond_edad} & {cond_asistencia} & {cond_nivel}')\n",
    "desertados22_2 = _data.query(f'{cond_edad} & {cond_asistencia} & {cond_desercion} & {cond_nivel}')"
   ]
  },
  {
   "cell_type": "code",
   "execution_count": 38,
   "id": "eb423d6a-b4cb-4a49-a051-f96d5399ad6c",
   "metadata": {},
   "outputs": [
    {
     "data": {
      "text/html": [
       "<div>\n",
       "<style scoped>\n",
       "    .dataframe tbody tr th:only-of-type {\n",
       "        vertical-align: middle;\n",
       "    }\n",
       "\n",
       "    .dataframe tbody tr th {\n",
       "        vertical-align: top;\n",
       "    }\n",
       "\n",
       "    .dataframe thead th {\n",
       "        text-align: right;\n",
       "    }\n",
       "</style>\n",
       "<table border=\"1\" class=\"dataframe\">\n",
       "  <thead>\n",
       "    <tr style=\"text-align: right;\">\n",
       "      <th></th>\n",
       "      <th>CODUSU</th>\n",
       "      <th>NRO_HOGAR</th>\n",
       "      <th>COMPONENTE</th>\n",
       "      <th>CH06_21</th>\n",
       "      <th>CH10_21</th>\n",
       "      <th>NIVEL_ED_21</th>\n",
       "      <th>CH06_22</th>\n",
       "      <th>CH10_22</th>\n",
       "      <th>NIVEL_ED_22</th>\n",
       "    </tr>\n",
       "  </thead>\n",
       "  <tbody>\n",
       "    <tr>\n",
       "      <th>69</th>\n",
       "      <td>TQRMNOPRRHMMKTCDEGKDB00700601</td>\n",
       "      <td>1</td>\n",
       "      <td>5</td>\n",
       "      <td>21</td>\n",
       "      <td>1</td>\n",
       "      <td>1</td>\n",
       "      <td>23</td>\n",
       "      <td>2</td>\n",
       "      <td>1</td>\n",
       "    </tr>\n",
       "    <tr>\n",
       "      <th>306</th>\n",
       "      <td>TQRMNOQXQHLLLQCDEHPJB00707377</td>\n",
       "      <td>1</td>\n",
       "      <td>2</td>\n",
       "      <td>37</td>\n",
       "      <td>1</td>\n",
       "      <td>3</td>\n",
       "      <td>38</td>\n",
       "      <td>2</td>\n",
       "      <td>2</td>\n",
       "    </tr>\n",
       "    <tr>\n",
       "      <th>429</th>\n",
       "      <td>TQRMNOQSPHLOLPCDEHNHB00707782</td>\n",
       "      <td>1</td>\n",
       "      <td>3</td>\n",
       "      <td>20</td>\n",
       "      <td>1</td>\n",
       "      <td>3</td>\n",
       "      <td>21</td>\n",
       "      <td>2</td>\n",
       "      <td>3</td>\n",
       "    </tr>\n",
       "    <tr>\n",
       "      <th>511</th>\n",
       "      <td>TQRMNORRUHLOLSCDEGJBF00707686</td>\n",
       "      <td>1</td>\n",
       "      <td>3</td>\n",
       "      <td>20</td>\n",
       "      <td>1</td>\n",
       "      <td>3</td>\n",
       "      <td>21</td>\n",
       "      <td>2</td>\n",
       "      <td>3</td>\n",
       "    </tr>\n",
       "    <tr>\n",
       "      <th>512</th>\n",
       "      <td>TQRMNORRUHLOLSCDEGJBF00707686</td>\n",
       "      <td>1</td>\n",
       "      <td>4</td>\n",
       "      <td>16</td>\n",
       "      <td>1</td>\n",
       "      <td>3</td>\n",
       "      <td>17</td>\n",
       "      <td>2</td>\n",
       "      <td>3</td>\n",
       "    </tr>\n",
       "    <tr>\n",
       "      <th>...</th>\n",
       "      <td>...</td>\n",
       "      <td>...</td>\n",
       "      <td>...</td>\n",
       "      <td>...</td>\n",
       "      <td>...</td>\n",
       "      <td>...</td>\n",
       "      <td>...</td>\n",
       "      <td>...</td>\n",
       "      <td>...</td>\n",
       "    </tr>\n",
       "    <tr>\n",
       "      <th>16728</th>\n",
       "      <td>TQRMNORRXHLOLLCDEIOAH00707206</td>\n",
       "      <td>1</td>\n",
       "      <td>3</td>\n",
       "      <td>18</td>\n",
       "      <td>1</td>\n",
       "      <td>3</td>\n",
       "      <td>19</td>\n",
       "      <td>2</td>\n",
       "      <td>3</td>\n",
       "    </tr>\n",
       "    <tr>\n",
       "      <th>17049</th>\n",
       "      <td>TQRMNOQRUHMNLOCDEHMHF00700519</td>\n",
       "      <td>1</td>\n",
       "      <td>4</td>\n",
       "      <td>15</td>\n",
       "      <td>1</td>\n",
       "      <td>3</td>\n",
       "      <td>17</td>\n",
       "      <td>2</td>\n",
       "      <td>3</td>\n",
       "    </tr>\n",
       "    <tr>\n",
       "      <th>17207</th>\n",
       "      <td>TQRMNOPQYHMMKQCDEIGED00702112</td>\n",
       "      <td>1</td>\n",
       "      <td>3</td>\n",
       "      <td>16</td>\n",
       "      <td>1</td>\n",
       "      <td>3</td>\n",
       "      <td>17</td>\n",
       "      <td>2</td>\n",
       "      <td>1</td>\n",
       "    </tr>\n",
       "    <tr>\n",
       "      <th>17218</th>\n",
       "      <td>TQRMNORXVHMMKUCDEHPJB00700357</td>\n",
       "      <td>1</td>\n",
       "      <td>4</td>\n",
       "      <td>30</td>\n",
       "      <td>1</td>\n",
       "      <td>3</td>\n",
       "      <td>30</td>\n",
       "      <td>2</td>\n",
       "      <td>3</td>\n",
       "    </tr>\n",
       "    <tr>\n",
       "      <th>17522</th>\n",
       "      <td>TQRMNORWRHLMLSCDEHJGH00708385</td>\n",
       "      <td>1</td>\n",
       "      <td>2</td>\n",
       "      <td>39</td>\n",
       "      <td>1</td>\n",
       "      <td>5</td>\n",
       "      <td>40</td>\n",
       "      <td>2</td>\n",
       "      <td>2</td>\n",
       "    </tr>\n",
       "  </tbody>\n",
       "</table>\n",
       "<p>140 rows × 9 columns</p>\n",
       "</div>"
      ],
      "text/plain": [
       "                              CODUSU  NRO_HOGAR  COMPONENTE  CH06_21  CH10_21  \\\n",
       "69     TQRMNOPRRHMMKTCDEGKDB00700601          1           5       21        1   \n",
       "306    TQRMNOQXQHLLLQCDEHPJB00707377          1           2       37        1   \n",
       "429    TQRMNOQSPHLOLPCDEHNHB00707782          1           3       20        1   \n",
       "511    TQRMNORRUHLOLSCDEGJBF00707686          1           3       20        1   \n",
       "512    TQRMNORRUHLOLSCDEGJBF00707686          1           4       16        1   \n",
       "...                              ...        ...         ...      ...      ...   \n",
       "16728  TQRMNORRXHLOLLCDEIOAH00707206          1           3       18        1   \n",
       "17049  TQRMNOQRUHMNLOCDEHMHF00700519          1           4       15        1   \n",
       "17207  TQRMNOPQYHMMKQCDEIGED00702112          1           3       16        1   \n",
       "17218  TQRMNORXVHMMKUCDEHPJB00700357          1           4       30        1   \n",
       "17522  TQRMNORWRHLMLSCDEHJGH00708385          1           2       39        1   \n",
       "\n",
       "       NIVEL_ED_21  CH06_22  CH10_22  NIVEL_ED_22  \n",
       "69               1       23        2            1  \n",
       "306              3       38        2            2  \n",
       "429              3       21        2            3  \n",
       "511              3       21        2            3  \n",
       "512              3       17        2            3  \n",
       "...            ...      ...      ...          ...  \n",
       "16728            3       19        2            3  \n",
       "17049            3       17        2            3  \n",
       "17207            3       17        2            1  \n",
       "17218            3       30        2            3  \n",
       "17522            5       40        2            2  \n",
       "\n",
       "[140 rows x 9 columns]"
      ]
     },
     "execution_count": 38,
     "metadata": {},
     "output_type": "execute_result"
    }
   ],
   "source": [
    "desertados22_2"
   ]
  },
  {
   "cell_type": "code",
   "execution_count": 39,
   "id": "2af5791a-d41c-4ee3-9b21-84c51b838e3f",
   "metadata": {},
   "outputs": [
    {
     "name": "stdout",
     "output_type": "stream",
     "text": [
      "El porcentaje de desertores medido entre el segundo trimestre 2021 y el segundo trimestre de 2022 es 3.96%.\n"
     ]
    }
   ],
   "source": [
    "print(f'El porcentaje de desertores medido entre el segundo trimestre 2021 y el segundo trimestre de 2022 es {desertados22_2.shape[0]/estudiantes21_2.shape[0]:1.2%}.')"
   ]
  },
  {
   "cell_type": "markdown",
   "id": "a0dcca4f-b478-46b2-96ab-cd7574891d3f",
   "metadata": {},
   "source": [
    "Por las características de la muestra, la cantidad de personas que dejan el sistema educativo es muy baja entre un único trimestre de un año y el próximo del año siguiente. Por lo tanto, para la construcción del dataset a utilizar en el proyecto, deberemos utilizar datos de distintos años y trimestres (ej.: segundo, tercero y cuarto de dos años consecutivos).\n",
    "\n",
    "Veamos la distribución por edad de estas personas."
   ]
  },
  {
   "cell_type": "code",
   "execution_count": 41,
   "id": "e90aefdc-efc3-45fb-913b-a5263564f91b",
   "metadata": {},
   "outputs": [
    {
     "data": {
      "text/html": [
       "<div>\n",
       "<style scoped>\n",
       "    .dataframe tbody tr th:only-of-type {\n",
       "        vertical-align: middle;\n",
       "    }\n",
       "\n",
       "    .dataframe tbody tr th {\n",
       "        vertical-align: top;\n",
       "    }\n",
       "\n",
       "    .dataframe thead th {\n",
       "        text-align: right;\n",
       "    }\n",
       "</style>\n",
       "<table border=\"1\" class=\"dataframe\">\n",
       "  <thead>\n",
       "    <tr style=\"text-align: right;\">\n",
       "      <th></th>\n",
       "      <th>CH06_21</th>\n",
       "      <th>CH06_22</th>\n",
       "    </tr>\n",
       "  </thead>\n",
       "  <tbody>\n",
       "    <tr>\n",
       "      <th>count</th>\n",
       "      <td>140.000000</td>\n",
       "      <td>140.000000</td>\n",
       "    </tr>\n",
       "    <tr>\n",
       "      <th>mean</th>\n",
       "      <td>24.750000</td>\n",
       "      <td>27.235714</td>\n",
       "    </tr>\n",
       "    <tr>\n",
       "      <th>std</th>\n",
       "      <td>13.341731</td>\n",
       "      <td>15.084706</td>\n",
       "    </tr>\n",
       "    <tr>\n",
       "      <th>min</th>\n",
       "      <td>7.000000</td>\n",
       "      <td>8.000000</td>\n",
       "    </tr>\n",
       "    <tr>\n",
       "      <th>25%</th>\n",
       "      <td>18.000000</td>\n",
       "      <td>19.000000</td>\n",
       "    </tr>\n",
       "    <tr>\n",
       "      <th>50%</th>\n",
       "      <td>20.000000</td>\n",
       "      <td>21.500000</td>\n",
       "    </tr>\n",
       "    <tr>\n",
       "      <th>75%</th>\n",
       "      <td>27.000000</td>\n",
       "      <td>29.000000</td>\n",
       "    </tr>\n",
       "    <tr>\n",
       "      <th>max</th>\n",
       "      <td>88.000000</td>\n",
       "      <td>89.000000</td>\n",
       "    </tr>\n",
       "  </tbody>\n",
       "</table>\n",
       "</div>"
      ],
      "text/plain": [
       "          CH06_21     CH06_22\n",
       "count  140.000000  140.000000\n",
       "mean    24.750000   27.235714\n",
       "std     13.341731   15.084706\n",
       "min      7.000000    8.000000\n",
       "25%     18.000000   19.000000\n",
       "50%     20.000000   21.500000\n",
       "75%     27.000000   29.000000\n",
       "max     88.000000   89.000000"
      ]
     },
     "execution_count": 41,
     "metadata": {},
     "output_type": "execute_result"
    }
   ],
   "source": [
    "desertados22_2[['CH06_21', 'CH06_22']].describe()"
   ]
  },
  {
   "cell_type": "code",
   "execution_count": 42,
   "id": "026238ba-8170-4710-b267-286963c57ede",
   "metadata": {},
   "outputs": [],
   "source": [
    "from matplotlib import pyplot as plt\n",
    "import seaborn as sns\n",
    "sns.set_theme(style=\"whitegrid\", palette=\"pastel\")\n",
    "import plotly.graph_objs as go\n",
    "import plotly.express as px\n",
    "from plotly.subplots import make_subplots"
   ]
  },
  {
   "cell_type": "code",
   "execution_count": 60,
   "id": "289f55c6-0442-4d9d-a8fa-7d7028cec505",
   "metadata": {},
   "outputs": [
    {
     "data": {
      "application/vnd.plotly.v1+json": {
       "config": {
        "plotlyServerURL": "https://plot.ly"
       },
       "data": [
        {
         "alignmentgroup": "True",
         "bingroup": "x",
         "hovertemplate": "Máximo nivel alcanzado=Primario Incompleto<br>Edad en 202Primario Incompleto=%{x}<br>count=%{y}<extra></extra>",
         "legendgroup": "Primario Incompleto",
         "marker": {
          "color": "#636efa",
          "pattern": {
           "shape": ""
          }
         },
         "name": "Primario Incompleto",
         "nbinsx": 50,
         "offsetgroup": "1",
         "orientation": "v",
         "showlegend": true,
         "type": "histogram",
         "x": [
          21,
          23,
          37,
          21,
          86,
          60,
          13,
          19,
          88,
          7,
          20,
          23,
          27,
          77,
          58,
          27,
          19,
          13,
          16
         ],
         "xaxis": "x",
         "yaxis": "y"
        },
        {
         "alignmentgroup": "True",
         "bingroup": "x",
         "hovertemplate": "Máximo nivel alcanzado=Primario Completo<br>Edad en Primario Completo0Primario Completo1=%{x}<br>count=%{y}<extra></extra>",
         "legendgroup": "Primario Completo",
         "marker": {
          "color": "#EF553B",
          "pattern": {
           "shape": ""
          }
         },
         "name": "Primario Completo",
         "nbinsx": 50,
         "offsetgroup": "2",
         "orientation": "v",
         "showlegend": true,
         "type": "histogram",
         "x": [
          37,
          11,
          40,
          31,
          18,
          17,
          21,
          14,
          24,
          17,
          38,
          14,
          20,
          23,
          43,
          41,
          20,
          44,
          61,
          19,
          21,
          39
         ],
         "xaxis": "x",
         "yaxis": "y"
        },
        {
         "alignmentgroup": "True",
         "bingroup": "x",
         "hovertemplate": "Máximo nivel alcanzado=Secundario Incompleto<br>Edad en 2021=%{x}<br>count=%{y}<extra></extra>",
         "legendgroup": "Secundario Incompleto",
         "marker": {
          "color": "#00cc96",
          "pattern": {
           "shape": ""
          }
         },
         "name": "Secundario Incompleto",
         "nbinsx": 50,
         "offsetgroup": "3",
         "orientation": "v",
         "showlegend": true,
         "type": "histogram",
         "x": [
          20,
          20,
          16,
          23,
          16,
          19,
          21,
          39,
          19,
          18,
          15,
          12,
          23,
          24,
          20,
          19,
          26,
          18,
          18,
          20,
          26,
          26,
          28,
          17,
          20,
          15,
          13,
          26,
          24,
          22,
          24,
          22,
          19,
          20,
          17,
          29,
          51,
          44,
          19,
          17,
          31,
          28,
          22,
          14,
          38,
          21,
          11,
          21,
          19,
          18,
          32,
          19,
          19,
          27,
          29,
          21,
          17,
          20,
          18,
          17,
          20,
          16,
          16,
          20,
          18,
          25,
          27,
          39,
          29,
          27,
          19,
          17,
          17,
          16,
          28,
          24,
          19,
          18,
          28,
          16,
          25,
          24,
          22,
          14,
          23,
          18,
          20,
          21,
          70,
          14,
          22,
          18,
          20,
          19,
          18,
          20,
          18,
          15,
          30
         ],
         "xaxis": "x",
         "yaxis": "y"
        }
       ],
       "layout": {
        "autosize": true,
        "barmode": "relative",
        "legend": {
         "title": {
          "text": "Máximo nivel alcanzado"
         },
         "tracegroupgap": 0
        },
        "template": {
         "data": {
          "bar": [
           {
            "error_x": {
             "color": "#2a3f5f"
            },
            "error_y": {
             "color": "#2a3f5f"
            },
            "marker": {
             "line": {
              "color": "#E5ECF6",
              "width": 0.5
             },
             "pattern": {
              "fillmode": "overlay",
              "size": 10,
              "solidity": 0.2
             }
            },
            "type": "bar"
           }
          ],
          "barpolar": [
           {
            "marker": {
             "line": {
              "color": "#E5ECF6",
              "width": 0.5
             },
             "pattern": {
              "fillmode": "overlay",
              "size": 10,
              "solidity": 0.2
             }
            },
            "type": "barpolar"
           }
          ],
          "carpet": [
           {
            "aaxis": {
             "endlinecolor": "#2a3f5f",
             "gridcolor": "white",
             "linecolor": "white",
             "minorgridcolor": "white",
             "startlinecolor": "#2a3f5f"
            },
            "baxis": {
             "endlinecolor": "#2a3f5f",
             "gridcolor": "white",
             "linecolor": "white",
             "minorgridcolor": "white",
             "startlinecolor": "#2a3f5f"
            },
            "type": "carpet"
           }
          ],
          "choropleth": [
           {
            "colorbar": {
             "outlinewidth": 0,
             "ticks": ""
            },
            "type": "choropleth"
           }
          ],
          "contour": [
           {
            "colorbar": {
             "outlinewidth": 0,
             "ticks": ""
            },
            "colorscale": [
             [
              0,
              "#0d0887"
             ],
             [
              0.1111111111111111,
              "#46039f"
             ],
             [
              0.2222222222222222,
              "#7201a8"
             ],
             [
              0.3333333333333333,
              "#9c179e"
             ],
             [
              0.4444444444444444,
              "#bd3786"
             ],
             [
              0.5555555555555556,
              "#d8576b"
             ],
             [
              0.6666666666666666,
              "#ed7953"
             ],
             [
              0.7777777777777778,
              "#fb9f3a"
             ],
             [
              0.8888888888888888,
              "#fdca26"
             ],
             [
              1,
              "#f0f921"
             ]
            ],
            "type": "contour"
           }
          ],
          "contourcarpet": [
           {
            "colorbar": {
             "outlinewidth": 0,
             "ticks": ""
            },
            "type": "contourcarpet"
           }
          ],
          "heatmap": [
           {
            "colorbar": {
             "outlinewidth": 0,
             "ticks": ""
            },
            "colorscale": [
             [
              0,
              "#0d0887"
             ],
             [
              0.1111111111111111,
              "#46039f"
             ],
             [
              0.2222222222222222,
              "#7201a8"
             ],
             [
              0.3333333333333333,
              "#9c179e"
             ],
             [
              0.4444444444444444,
              "#bd3786"
             ],
             [
              0.5555555555555556,
              "#d8576b"
             ],
             [
              0.6666666666666666,
              "#ed7953"
             ],
             [
              0.7777777777777778,
              "#fb9f3a"
             ],
             [
              0.8888888888888888,
              "#fdca26"
             ],
             [
              1,
              "#f0f921"
             ]
            ],
            "type": "heatmap"
           }
          ],
          "heatmapgl": [
           {
            "colorbar": {
             "outlinewidth": 0,
             "ticks": ""
            },
            "colorscale": [
             [
              0,
              "#0d0887"
             ],
             [
              0.1111111111111111,
              "#46039f"
             ],
             [
              0.2222222222222222,
              "#7201a8"
             ],
             [
              0.3333333333333333,
              "#9c179e"
             ],
             [
              0.4444444444444444,
              "#bd3786"
             ],
             [
              0.5555555555555556,
              "#d8576b"
             ],
             [
              0.6666666666666666,
              "#ed7953"
             ],
             [
              0.7777777777777778,
              "#fb9f3a"
             ],
             [
              0.8888888888888888,
              "#fdca26"
             ],
             [
              1,
              "#f0f921"
             ]
            ],
            "type": "heatmapgl"
           }
          ],
          "histogram": [
           {
            "marker": {
             "pattern": {
              "fillmode": "overlay",
              "size": 10,
              "solidity": 0.2
             }
            },
            "type": "histogram"
           }
          ],
          "histogram2d": [
           {
            "colorbar": {
             "outlinewidth": 0,
             "ticks": ""
            },
            "colorscale": [
             [
              0,
              "#0d0887"
             ],
             [
              0.1111111111111111,
              "#46039f"
             ],
             [
              0.2222222222222222,
              "#7201a8"
             ],
             [
              0.3333333333333333,
              "#9c179e"
             ],
             [
              0.4444444444444444,
              "#bd3786"
             ],
             [
              0.5555555555555556,
              "#d8576b"
             ],
             [
              0.6666666666666666,
              "#ed7953"
             ],
             [
              0.7777777777777778,
              "#fb9f3a"
             ],
             [
              0.8888888888888888,
              "#fdca26"
             ],
             [
              1,
              "#f0f921"
             ]
            ],
            "type": "histogram2d"
           }
          ],
          "histogram2dcontour": [
           {
            "colorbar": {
             "outlinewidth": 0,
             "ticks": ""
            },
            "colorscale": [
             [
              0,
              "#0d0887"
             ],
             [
              0.1111111111111111,
              "#46039f"
             ],
             [
              0.2222222222222222,
              "#7201a8"
             ],
             [
              0.3333333333333333,
              "#9c179e"
             ],
             [
              0.4444444444444444,
              "#bd3786"
             ],
             [
              0.5555555555555556,
              "#d8576b"
             ],
             [
              0.6666666666666666,
              "#ed7953"
             ],
             [
              0.7777777777777778,
              "#fb9f3a"
             ],
             [
              0.8888888888888888,
              "#fdca26"
             ],
             [
              1,
              "#f0f921"
             ]
            ],
            "type": "histogram2dcontour"
           }
          ],
          "mesh3d": [
           {
            "colorbar": {
             "outlinewidth": 0,
             "ticks": ""
            },
            "type": "mesh3d"
           }
          ],
          "parcoords": [
           {
            "line": {
             "colorbar": {
              "outlinewidth": 0,
              "ticks": ""
             }
            },
            "type": "parcoords"
           }
          ],
          "pie": [
           {
            "automargin": true,
            "type": "pie"
           }
          ],
          "scatter": [
           {
            "fillpattern": {
             "fillmode": "overlay",
             "size": 10,
             "solidity": 0.2
            },
            "type": "scatter"
           }
          ],
          "scatter3d": [
           {
            "line": {
             "colorbar": {
              "outlinewidth": 0,
              "ticks": ""
             }
            },
            "marker": {
             "colorbar": {
              "outlinewidth": 0,
              "ticks": ""
             }
            },
            "type": "scatter3d"
           }
          ],
          "scattercarpet": [
           {
            "marker": {
             "colorbar": {
              "outlinewidth": 0,
              "ticks": ""
             }
            },
            "type": "scattercarpet"
           }
          ],
          "scattergeo": [
           {
            "marker": {
             "colorbar": {
              "outlinewidth": 0,
              "ticks": ""
             }
            },
            "type": "scattergeo"
           }
          ],
          "scattergl": [
           {
            "marker": {
             "colorbar": {
              "outlinewidth": 0,
              "ticks": ""
             }
            },
            "type": "scattergl"
           }
          ],
          "scattermapbox": [
           {
            "marker": {
             "colorbar": {
              "outlinewidth": 0,
              "ticks": ""
             }
            },
            "type": "scattermapbox"
           }
          ],
          "scatterpolar": [
           {
            "marker": {
             "colorbar": {
              "outlinewidth": 0,
              "ticks": ""
             }
            },
            "type": "scatterpolar"
           }
          ],
          "scatterpolargl": [
           {
            "marker": {
             "colorbar": {
              "outlinewidth": 0,
              "ticks": ""
             }
            },
            "type": "scatterpolargl"
           }
          ],
          "scatterternary": [
           {
            "marker": {
             "colorbar": {
              "outlinewidth": 0,
              "ticks": ""
             }
            },
            "type": "scatterternary"
           }
          ],
          "surface": [
           {
            "colorbar": {
             "outlinewidth": 0,
             "ticks": ""
            },
            "colorscale": [
             [
              0,
              "#0d0887"
             ],
             [
              0.1111111111111111,
              "#46039f"
             ],
             [
              0.2222222222222222,
              "#7201a8"
             ],
             [
              0.3333333333333333,
              "#9c179e"
             ],
             [
              0.4444444444444444,
              "#bd3786"
             ],
             [
              0.5555555555555556,
              "#d8576b"
             ],
             [
              0.6666666666666666,
              "#ed7953"
             ],
             [
              0.7777777777777778,
              "#fb9f3a"
             ],
             [
              0.8888888888888888,
              "#fdca26"
             ],
             [
              1,
              "#f0f921"
             ]
            ],
            "type": "surface"
           }
          ],
          "table": [
           {
            "cells": {
             "fill": {
              "color": "#EBF0F8"
             },
             "line": {
              "color": "white"
             }
            },
            "header": {
             "fill": {
              "color": "#C8D4E3"
             },
             "line": {
              "color": "white"
             }
            },
            "type": "table"
           }
          ]
         },
         "layout": {
          "annotationdefaults": {
           "arrowcolor": "#2a3f5f",
           "arrowhead": 0,
           "arrowwidth": 1
          },
          "autotypenumbers": "strict",
          "coloraxis": {
           "colorbar": {
            "outlinewidth": 0,
            "ticks": ""
           }
          },
          "colorscale": {
           "diverging": [
            [
             0,
             "#8e0152"
            ],
            [
             0.1,
             "#c51b7d"
            ],
            [
             0.2,
             "#de77ae"
            ],
            [
             0.3,
             "#f1b6da"
            ],
            [
             0.4,
             "#fde0ef"
            ],
            [
             0.5,
             "#f7f7f7"
            ],
            [
             0.6,
             "#e6f5d0"
            ],
            [
             0.7,
             "#b8e186"
            ],
            [
             0.8,
             "#7fbc41"
            ],
            [
             0.9,
             "#4d9221"
            ],
            [
             1,
             "#276419"
            ]
           ],
           "sequential": [
            [
             0,
             "#0d0887"
            ],
            [
             0.1111111111111111,
             "#46039f"
            ],
            [
             0.2222222222222222,
             "#7201a8"
            ],
            [
             0.3333333333333333,
             "#9c179e"
            ],
            [
             0.4444444444444444,
             "#bd3786"
            ],
            [
             0.5555555555555556,
             "#d8576b"
            ],
            [
             0.6666666666666666,
             "#ed7953"
            ],
            [
             0.7777777777777778,
             "#fb9f3a"
            ],
            [
             0.8888888888888888,
             "#fdca26"
            ],
            [
             1,
             "#f0f921"
            ]
           ],
           "sequentialminus": [
            [
             0,
             "#0d0887"
            ],
            [
             0.1111111111111111,
             "#46039f"
            ],
            [
             0.2222222222222222,
             "#7201a8"
            ],
            [
             0.3333333333333333,
             "#9c179e"
            ],
            [
             0.4444444444444444,
             "#bd3786"
            ],
            [
             0.5555555555555556,
             "#d8576b"
            ],
            [
             0.6666666666666666,
             "#ed7953"
            ],
            [
             0.7777777777777778,
             "#fb9f3a"
            ],
            [
             0.8888888888888888,
             "#fdca26"
            ],
            [
             1,
             "#f0f921"
            ]
           ]
          },
          "colorway": [
           "#636efa",
           "#EF553B",
           "#00cc96",
           "#ab63fa",
           "#FFA15A",
           "#19d3f3",
           "#FF6692",
           "#B6E880",
           "#FF97FF",
           "#FECB52"
          ],
          "font": {
           "color": "#2a3f5f"
          },
          "geo": {
           "bgcolor": "white",
           "lakecolor": "white",
           "landcolor": "#E5ECF6",
           "showlakes": true,
           "showland": true,
           "subunitcolor": "white"
          },
          "hoverlabel": {
           "align": "left"
          },
          "hovermode": "closest",
          "mapbox": {
           "style": "light"
          },
          "paper_bgcolor": "white",
          "plot_bgcolor": "#E5ECF6",
          "polar": {
           "angularaxis": {
            "gridcolor": "white",
            "linecolor": "white",
            "ticks": ""
           },
           "bgcolor": "#E5ECF6",
           "radialaxis": {
            "gridcolor": "white",
            "linecolor": "white",
            "ticks": ""
           }
          },
          "scene": {
           "xaxis": {
            "backgroundcolor": "#E5ECF6",
            "gridcolor": "white",
            "gridwidth": 2,
            "linecolor": "white",
            "showbackground": true,
            "ticks": "",
            "zerolinecolor": "white"
           },
           "yaxis": {
            "backgroundcolor": "#E5ECF6",
            "gridcolor": "white",
            "gridwidth": 2,
            "linecolor": "white",
            "showbackground": true,
            "ticks": "",
            "zerolinecolor": "white"
           },
           "zaxis": {
            "backgroundcolor": "#E5ECF6",
            "gridcolor": "white",
            "gridwidth": 2,
            "linecolor": "white",
            "showbackground": true,
            "ticks": "",
            "zerolinecolor": "white"
           }
          },
          "shapedefaults": {
           "line": {
            "color": "#2a3f5f"
           }
          },
          "ternary": {
           "aaxis": {
            "gridcolor": "white",
            "linecolor": "white",
            "ticks": ""
           },
           "baxis": {
            "gridcolor": "white",
            "linecolor": "white",
            "ticks": ""
           },
           "bgcolor": "#E5ECF6",
           "caxis": {
            "gridcolor": "white",
            "linecolor": "white",
            "ticks": ""
           }
          },
          "title": {
           "x": 0.05
          },
          "xaxis": {
           "automargin": true,
           "gridcolor": "white",
           "linecolor": "white",
           "ticks": "",
           "title": {
            "standoff": 15
           },
           "zerolinecolor": "white",
           "zerolinewidth": 2
          },
          "yaxis": {
           "automargin": true,
           "gridcolor": "white",
           "linecolor": "white",
           "ticks": "",
           "title": {
            "standoff": 15
           },
           "zerolinecolor": "white",
           "zerolinewidth": 2
          }
         }
        },
        "title": {
         "text": "Distribución por edad de personas que abandonaron la escuela en el segundo trimestre de 2022"
        },
        "xaxis": {
         "anchor": "y",
         "autorange": true,
         "domain": [
          0,
          1
         ],
         "range": [
          5.5,
          89.5
         ],
         "title": {
          "text": "Edad en 2021"
         },
         "type": "linear"
        },
        "yaxis": {
         "anchor": "x",
         "autorange": true,
         "domain": [
          0,
          1
         ],
         "range": [
          0,
          27.36842105263158
         ],
         "title": {
          "text": "count"
         }
        }
       }
      },
      "image/png": "[encoded data removed]",
      "text/html": [
       "<div>                            <div id=\"890c0110-3d0c-4387-bd86-5bfd7dd4977b\" class=\"plotly-graph-div\" style=\"height:600px; width:100%;\"></div>            <script type=\"text/javascript\">                require([\"plotly\"], function(Plotly) {                    window.PLOTLYENV=window.PLOTLYENV || {};                                    if (document.getElementById(\"890c0110-3d0c-4387-bd86-5bfd7dd4977b\")) {                    Plotly.newPlot(                        \"890c0110-3d0c-4387-bd86-5bfd7dd4977b\",                        [{\"alignmentgroup\":\"True\",\"bingroup\":\"x\",\"hovertemplate\":\"M\\u00e1ximo nivel alcanzado=Primario Incompleto\\u003cbr\\u003eEdad en 202Primario Incompleto=%{x}\\u003cbr\\u003ecount=%{y}\\u003cextra\\u003e\\u003c\\u002fextra\\u003e\",\"legendgroup\":\"Primario Incompleto\",\"marker\":{\"color\":\"#636efa\",\"pattern\":{\"shape\":\"\"}},\"name\":\"Primario Incompleto\",\"nbinsx\":50,\"offsetgroup\":\"1\",\"orientation\":\"v\",\"showlegend\":true,\"x\":[21,23,37,21,86,60,13,19,88,7,20,23,27,77,58,27,19,13,16],\"xaxis\":\"x\",\"yaxis\":\"y\",\"type\":\"histogram\"},{\"alignmentgroup\":\"True\",\"bingroup\":\"x\",\"hovertemplate\":\"M\\u00e1ximo nivel alcanzado=Primario Completo\\u003cbr\\u003eEdad en Primario Completo0Primario Completo1=%{x}\\u003cbr\\u003ecount=%{y}\\u003cextra\\u003e\\u003c\\u002fextra\\u003e\",\"legendgroup\":\"Primario Completo\",\"marker\":{\"color\":\"#EF553B\",\"pattern\":{\"shape\":\"\"}},\"name\":\"Primario Completo\",\"nbinsx\":50,\"offsetgroup\":\"2\",\"orientation\":\"v\",\"showlegend\":true,\"x\":[37,11,40,31,18,17,21,14,24,17,38,14,20,23,43,41,20,44,61,19,21,39],\"xaxis\":\"x\",\"yaxis\":\"y\",\"type\":\"histogram\"},{\"alignmentgroup\":\"True\",\"bingroup\":\"x\",\"hovertemplate\":\"M\\u00e1ximo nivel alcanzado=Secundario Incompleto\\u003cbr\\u003eEdad en 2021=%{x}\\u003cbr\\u003ecount=%{y}\\u003cextra\\u003e\\u003c\\u002fextra\\u003e\",\"legendgroup\":\"Secundario Incompleto\",\"marker\":{\"color\":\"#00cc96\",\"pattern\":{\"shape\":\"\"}},\"name\":\"Secundario Incompleto\",\"nbinsx\":50,\"offsetgroup\":\"3\",\"orientation\":\"v\",\"showlegend\":true,\"x\":[20,20,16,23,16,19,21,39,19,18,15,12,23,24,20,19,26,18,18,20,26,26,28,17,20,15,13,26,24,22,24,22,19,20,17,29,51,44,19,17,31,28,22,14,38,21,11,21,19,18,32,19,19,27,29,21,17,20,18,17,20,16,16,20,18,25,27,39,29,27,19,17,17,16,28,24,19,18,28,16,25,24,22,14,23,18,20,21,70,14,22,18,20,19,18,20,18,15,30],\"xaxis\":\"x\",\"yaxis\":\"y\",\"type\":\"histogram\"}],                        {\"template\":{\"data\":{\"histogram2dcontour\":[{\"type\":\"histogram2dcontour\",\"colorbar\":{\"outlinewidth\":0,\"ticks\":\"\"},\"colorscale\":[[0.0,\"#0d0887\"],[0.1111111111111111,\"#46039f\"],[0.2222222222222222,\"#7201a8\"],[0.3333333333333333,\"#9c179e\"],[0.4444444444444444,\"#bd3786\"],[0.5555555555555556,\"#d8576b\"],[0.6666666666666666,\"#ed7953\"],[0.7777777777777778,\"#fb9f3a\"],[0.8888888888888888,\"#fdca26\"],[1.0,\"#f0f921\"]]}],\"choropleth\":[{\"type\":\"choropleth\",\"colorbar\":{\"outlinewidth\":0,\"ticks\":\"\"}}],\"histogram2d\":[{\"type\":\"histogram2d\",\"colorbar\":{\"outlinewidth\":0,\"ticks\":\"\"},\"colorscale\":[[0.0,\"#0d0887\"],[0.1111111111111111,\"#46039f\"],[0.2222222222222222,\"#7201a8\"],[0.3333333333333333,\"#9c179e\"],[0.4444444444444444,\"#bd3786\"],[0.5555555555555556,\"#d8576b\"],[0.6666666666666666,\"#ed7953\"],[0.7777777777777778,\"#fb9f3a\"],[0.8888888888888888,\"#fdca26\"],[1.0,\"#f0f921\"]]}],\"heatmap\":[{\"type\":\"heatmap\",\"colorbar\":{\"outlinewidth\":0,\"ticks\":\"\"},\"colorscale\":[[0.0,\"#0d0887\"],[0.1111111111111111,\"#46039f\"],[0.2222222222222222,\"#7201a8\"],[0.3333333333333333,\"#9c179e\"],[0.4444444444444444,\"#bd3786\"],[0.5555555555555556,\"#d8576b\"],[0.6666666666666666,\"#ed7953\"],[0.7777777777777778,\"#fb9f3a\"],[0.8888888888888888,\"#fdca26\"],[1.0,\"#f0f921\"]]}],\"heatmapgl\":[{\"type\":\"heatmapgl\",\"colorbar\":{\"outlinewidth\":0,\"ticks\":\"\"},\"colorscale\":[[0.0,\"#0d0887\"],[0.1111111111111111,\"#46039f\"],[0.2222222222222222,\"#7201a8\"],[0.3333333333333333,\"#9c179e\"],[0.4444444444444444,\"#bd3786\"],[0.5555555555555556,\"#d8576b\"],[0.6666666666666666,\"#ed7953\"],[0.7777777777777778,\"#fb9f3a\"],[0.8888888888888888,\"#fdca26\"],[1.0,\"#f0f921\"]]}],\"contourcarpet\":[{\"type\":\"contourcarpet\",\"colorbar\":{\"outlinewidth\":0,\"ticks\":\"\"}}],\"contour\":[{\"type\":\"contour\",\"colorbar\":{\"outlinewidth\":0,\"ticks\":\"\"},\"colorscale\":[[0.0,\"#0d0887\"],[0.1111111111111111,\"#46039f\"],[0.2222222222222222,\"#7201a8\"],[0.3333333333333333,\"#9c179e\"],[0.4444444444444444,\"#bd3786\"],[0.5555555555555556,\"#d8576b\"],[0.6666666666666666,\"#ed7953\"],[0.7777777777777778,\"#fb9f3a\"],[0.8888888888888888,\"#fdca26\"],[1.0,\"#f0f921\"]]}],\"surface\":[{\"type\":\"surface\",\"colorbar\":{\"outlinewidth\":0,\"ticks\":\"\"},\"colorscale\":[[0.0,\"#0d0887\"],[0.1111111111111111,\"#46039f\"],[0.2222222222222222,\"#7201a8\"],[0.3333333333333333,\"#9c179e\"],[0.4444444444444444,\"#bd3786\"],[0.5555555555555556,\"#d8576b\"],[0.6666666666666666,\"#ed7953\"],[0.7777777777777778,\"#fb9f3a\"],[0.8888888888888888,\"#fdca26\"],[1.0,\"#f0f921\"]]}],\"mesh3d\":[{\"type\":\"mesh3d\",\"colorbar\":{\"outlinewidth\":0,\"ticks\":\"\"}}],\"scatter\":[{\"fillpattern\":{\"fillmode\":\"overlay\",\"size\":10,\"solidity\":0.2},\"type\":\"scatter\"}],\"parcoords\":[{\"type\":\"parcoords\",\"line\":{\"colorbar\":{\"outlinewidth\":0,\"ticks\":\"\"}}}],\"scatterpolargl\":[{\"type\":\"scatterpolargl\",\"marker\":{\"colorbar\":{\"outlinewidth\":0,\"ticks\":\"\"}}}],\"bar\":[{\"error_x\":{\"color\":\"#2a3f5f\"},\"error_y\":{\"color\":\"#2a3f5f\"},\"marker\":{\"line\":{\"color\":\"#E5ECF6\",\"width\":0.5},\"pattern\":{\"fillmode\":\"overlay\",\"size\":10,\"solidity\":0.2}},\"type\":\"bar\"}],\"scattergeo\":[{\"type\":\"scattergeo\",\"marker\":{\"colorbar\":{\"outlinewidth\":0,\"ticks\":\"\"}}}],\"scatterpolar\":[{\"type\":\"scatterpolar\",\"marker\":{\"colorbar\":{\"outlinewidth\":0,\"ticks\":\"\"}}}],\"histogram\":[{\"marker\":{\"pattern\":{\"fillmode\":\"overlay\",\"size\":10,\"solidity\":0.2}},\"type\":\"histogram\"}],\"scattergl\":[{\"type\":\"scattergl\",\"marker\":{\"colorbar\":{\"outlinewidth\":0,\"ticks\":\"\"}}}],\"scatter3d\":[{\"type\":\"scatter3d\",\"line\":{\"colorbar\":{\"outlinewidth\":0,\"ticks\":\"\"}},\"marker\":{\"colorbar\":{\"outlinewidth\":0,\"ticks\":\"\"}}}],\"scattermapbox\":[{\"type\":\"scattermapbox\",\"marker\":{\"colorbar\":{\"outlinewidth\":0,\"ticks\":\"\"}}}],\"scatterternary\":[{\"type\":\"scatterternary\",\"marker\":{\"colorbar\":{\"outlinewidth\":0,\"ticks\":\"\"}}}],\"scattercarpet\":[{\"type\":\"scattercarpet\",\"marker\":{\"colorbar\":{\"outlinewidth\":0,\"ticks\":\"\"}}}],\"carpet\":[{\"aaxis\":{\"endlinecolor\":\"#2a3f5f\",\"gridcolor\":\"white\",\"linecolor\":\"white\",\"minorgridcolor\":\"white\",\"startlinecolor\":\"#2a3f5f\"},\"baxis\":{\"endlinecolor\":\"#2a3f5f\",\"gridcolor\":\"white\",\"linecolor\":\"white\",\"minorgridcolor\":\"white\",\"startlinecolor\":\"#2a3f5f\"},\"type\":\"carpet\"}],\"table\":[{\"cells\":{\"fill\":{\"color\":\"#EBF0F8\"},\"line\":{\"color\":\"white\"}},\"header\":{\"fill\":{\"color\":\"#C8D4E3\"},\"line\":{\"color\":\"white\"}},\"type\":\"table\"}],\"barpolar\":[{\"marker\":{\"line\":{\"color\":\"#E5ECF6\",\"width\":0.5},\"pattern\":{\"fillmode\":\"overlay\",\"size\":10,\"solidity\":0.2}},\"type\":\"barpolar\"}],\"pie\":[{\"automargin\":true,\"type\":\"pie\"}]},\"layout\":{\"autotypenumbers\":\"strict\",\"colorway\":[\"#636efa\",\"#EF553B\",\"#00cc96\",\"#ab63fa\",\"#FFA15A\",\"#19d3f3\",\"#FF6692\",\"#B6E880\",\"#FF97FF\",\"#FECB52\"],\"font\":{\"color\":\"#2a3f5f\"},\"hovermode\":\"closest\",\"hoverlabel\":{\"align\":\"left\"},\"paper_bgcolor\":\"white\",\"plot_bgcolor\":\"#E5ECF6\",\"polar\":{\"bgcolor\":\"#E5ECF6\",\"angularaxis\":{\"gridcolor\":\"white\",\"linecolor\":\"white\",\"ticks\":\"\"},\"radialaxis\":{\"gridcolor\":\"white\",\"linecolor\":\"white\",\"ticks\":\"\"}},\"ternary\":{\"bgcolor\":\"#E5ECF6\",\"aaxis\":{\"gridcolor\":\"white\",\"linecolor\":\"white\",\"ticks\":\"\"},\"baxis\":{\"gridcolor\":\"white\",\"linecolor\":\"white\",\"ticks\":\"\"},\"caxis\":{\"gridcolor\":\"white\",\"linecolor\":\"white\",\"ticks\":\"\"}},\"coloraxis\":{\"colorbar\":{\"outlinewidth\":0,\"ticks\":\"\"}},\"colorscale\":{\"sequential\":[[0.0,\"#0d0887\"],[0.1111111111111111,\"#46039f\"],[0.2222222222222222,\"#7201a8\"],[0.3333333333333333,\"#9c179e\"],[0.4444444444444444,\"#bd3786\"],[0.5555555555555556,\"#d8576b\"],[0.6666666666666666,\"#ed7953\"],[0.7777777777777778,\"#fb9f3a\"],[0.8888888888888888,\"#fdca26\"],[1.0,\"#f0f921\"]],\"sequentialminus\":[[0.0,\"#0d0887\"],[0.1111111111111111,\"#46039f\"],[0.2222222222222222,\"#7201a8\"],[0.3333333333333333,\"#9c179e\"],[0.4444444444444444,\"#bd3786\"],[0.5555555555555556,\"#d8576b\"],[0.6666666666666666,\"#ed7953\"],[0.7777777777777778,\"#fb9f3a\"],[0.8888888888888888,\"#fdca26\"],[1.0,\"#f0f921\"]],\"diverging\":[[0,\"#8e0152\"],[0.1,\"#c51b7d\"],[0.2,\"#de77ae\"],[0.3,\"#f1b6da\"],[0.4,\"#fde0ef\"],[0.5,\"#f7f7f7\"],[0.6,\"#e6f5d0\"],[0.7,\"#b8e186\"],[0.8,\"#7fbc41\"],[0.9,\"#4d9221\"],[1,\"#276419\"]]},\"xaxis\":{\"gridcolor\":\"white\",\"linecolor\":\"white\",\"ticks\":\"\",\"title\":{\"standoff\":15},\"zerolinecolor\":\"white\",\"automargin\":true,\"zerolinewidth\":2},\"yaxis\":{\"gridcolor\":\"white\",\"linecolor\":\"white\",\"ticks\":\"\",\"title\":{\"standoff\":15},\"zerolinecolor\":\"white\",\"automargin\":true,\"zerolinewidth\":2},\"scene\":{\"xaxis\":{\"backgroundcolor\":\"#E5ECF6\",\"gridcolor\":\"white\",\"linecolor\":\"white\",\"showbackground\":true,\"ticks\":\"\",\"zerolinecolor\":\"white\",\"gridwidth\":2},\"yaxis\":{\"backgroundcolor\":\"#E5ECF6\",\"gridcolor\":\"white\",\"linecolor\":\"white\",\"showbackground\":true,\"ticks\":\"\",\"zerolinecolor\":\"white\",\"gridwidth\":2},\"zaxis\":{\"backgroundcolor\":\"#E5ECF6\",\"gridcolor\":\"white\",\"linecolor\":\"white\",\"showbackground\":true,\"ticks\":\"\",\"zerolinecolor\":\"white\",\"gridwidth\":2}},\"shapedefaults\":{\"line\":{\"color\":\"#2a3f5f\"}},\"annotationdefaults\":{\"arrowcolor\":\"#2a3f5f\",\"arrowhead\":0,\"arrowwidth\":1},\"geo\":{\"bgcolor\":\"white\",\"landcolor\":\"#E5ECF6\",\"subunitcolor\":\"white\",\"showland\":true,\"showlakes\":true,\"lakecolor\":\"white\"},\"title\":{\"x\":0.05},\"mapbox\":{\"style\":\"light\"}}},\"xaxis\":{\"anchor\":\"y\",\"domain\":[0.0,1.0],\"title\":{\"text\":\"Edad en 2021\"}},\"yaxis\":{\"anchor\":\"x\",\"domain\":[0.0,1.0],\"title\":{\"text\":\"count\"}},\"legend\":{\"title\":{\"text\":\"M\\u00e1ximo nivel alcanzado\"},\"tracegroupgap\":0},\"title\":{\"text\":\"Distribuci\\u00f3n por edad de personas que abandonaron la escuela en el segundo trimestre de 2022\"},\"barmode\":\"relative\",\"height\":600},                        {\"responsive\": true}                    ).then(function(){\n",
       "                            \n",
       "var gd = document.getElementById('890c0110-3d0c-4387-bd86-5bfd7dd4977b');\n",
       "var x = new MutationObserver(function (mutations, observer) {{\n",
       "        var display = window.getComputedStyle(gd).display;\n",
       "        if (!display || display === 'none') {{\n",
       "            console.log([gd, 'removed!']);\n",
       "            Plotly.purge(gd);\n",
       "            observer.disconnect();\n",
       "        }}\n",
       "}});\n",
       "\n",
       "// Listen for the removal of the full notebook cells\n",
       "var notebookContainer = gd.closest('#notebook-container');\n",
       "if (notebookContainer) {{\n",
       "    x.observe(notebookContainer, {childList: true});\n",
       "}}\n",
       "\n",
       "// Listen for the clearing of the current output cell\n",
       "var outputEl = gd.closest('.output');\n",
       "if (outputEl) {{\n",
       "    x.observe(outputEl, {childList: true});\n",
       "}}\n",
       "\n",
       "                        })                };                });            </script>        </div>"
      ]
     },
     "metadata": {},
     "output_type": "display_data"
    }
   ],
   "source": [
    "fig = px.histogram(data_frame=desertados22_2, x='CH06_21', color='NIVEL_ED_22',\n",
    "                  labels={'CH06_21': 'Edad en 2021',\n",
    "                          'Count': 'Frecuencia',\n",
    "                         'NIVEL_ED_22': 'Máximo nivel alcanzado'}, \n",
    "                   nbins=50,\n",
    "                   title='Distribución por edad de personas que abandonaron la escuela en el segundo trimestre de 2022',\n",
    "                   height=600)\n",
    "\n",
    "newnames = {'1':'Primario Incompleto', '2': 'Primario Completo', '3': 'Secundario Incompleto'}\n",
    "fig.for_each_trace(lambda t: t.update(name = newnames[t.name],\n",
    "                                      legendgroup = newnames[t.name],\n",
    "                                      hovertemplate = t.hovertemplate.replace(t.name, newnames[t.name])\n",
    "                                     )\n",
    "                  )\n",
    "fig.show()"
   ]
  },
  {
   "cell_type": "markdown",
   "id": "13617cbc-8cd1-428f-a92a-0cc5c4eb9315",
   "metadata": {},
   "source": [
    "La mayoría de las personas que abandonaron sus estudios obligatorios tenían en 2021 más de 15 años, con el pico encontrándose alrededor de los 18 años (el 25% tienen hasta esa edad). Esto coincide con la información conocida sobre el tema: la mayor deserción escolar se da en el último año de secundaria, a partir de los 17-18 años. "
   ]
  },
  {
   "cell_type": "markdown",
   "id": "8fbd4d3f-c6d0-428e-a557-b0f26931a5ad",
   "metadata": {},
   "source": [
    "Para continuar el análisis, vamos a combinar ese dataset de desertados22_2 con algunos datos de las bases de hogares e individuos de 2021. Vamos a mirar los deciles de ingresos, algunos indicadores que correlacionan con bajos deciles de ingresos (ya que muchas personas eligen no contestar las preguntas sobre sus ingresos), el máximo nivel educativo del jefe/a de hogar, si es o no ama de casa y si buscó trabajo en los últimos 12 meses.\n",
    "\n",
    "## Indicadores de NBI (Necesidades Básicas Insatisfechas) - Pobreza Multidimensional\n",
    "\n",
    "En base a consideraciones del INDEC, se define que si un hogar cumple con alguna de las siguientes condiciones, entonces tiene Necesidades Básicas Insatisfechas (NBI):\n",
    "\n",
    "* **Hacinamiento**: más de 3 personas por cuarto para dormir.\n",
    "\n",
    "    * La columna **II2** de la base de hogares mide el número de cuartos que se utilizan para dormir. La cantidad de personas del hogar dividido este número nos da la cantidad de personas por cuarto de dormir del hogar.\n",
    "\n",
    "* **Vivienda precaria**: pieza en inquilinato, local no construido para habitación y pieza de hotel o situada en villa de emergencia.\n",
    "\n",
    "    * Variables **IV1**: Tipo de vivienda (por observación)\n",
    "        \n",
    "        1. casa\n",
    "        2. departamento\n",
    "        3. pieza de inquilinato\n",
    "        4. pieza en hotel / pensión\n",
    "        5. local no construido para habitación\n",
    "\n",
    "    * La columna **IV12_3** = 1 indica si la vivienda está ubicada en una villa de emergencia.\n",
    "\n",
    "* **Condiciones sanitarias**: hogares que no tuvieran ningún tipo de retrete.\n",
    "\n",
    "    - Variable **IV8** = 1 el hogar tiene baño o letrina\n",
    "    - Variable **IV10** = 1 sin carencia (inodoro con botón / mochila / cadena y arrastre de agua)\n",
    "\n",
    "* **Asistencia escolar**: Variable **CH10** indica asistencia a algún establecimiento educativo.\n",
    "\n",
    "* **Capacidad de subsistencia**: hogares que tuvieran 4 o más personas por miembro ocupado, y además cuyo jefe de hogar tuviera baja educación.\n",
    "\n",
    "    - Variable **estado**: indica condición de actividad económica.\n",
    "        - 0 = Entrevista individual no realizada (no respuesta al cuestionario individual)\n",
    "        - 1 = Ocupado\n",
    "        - 2 = Desocupado\n",
    "        - 3 = Inactivo\n",
    "        - 4 = Menor de 10 años\n",
    "\n",
    "    - Variable **nivel_ed**: indica el nivel educativo.\n",
    "        - 1 = Primario incompleto (incluye educación especial)\n",
    "        - 2 = Primario completo\n",
    "        - 3 = Secundario incompleto\n",
    "        - 4 = Secundario completo\n",
    "        - 5 = Superior universitario incompleto\n",
    "        - 6 = Superior universitario completo\n",
    "        - 7 = Sin instrucción\n",
    "        - 9 = Ns/Nr\n",
    "\n",
    "    - Variable **CH03** indica si la persona es jefe de hogar."
   ]
  }
 ],
 "metadata": {
  "kernelspec": {
   "display_name": "desercion_dev_kernel",
   "language": "python",
   "name": "desercion_dev_kernel"
  },
  "language_info": {
   "codemirror_mode": {
    "name": "ipython",
    "version": 3
   },
   "file_extension": ".py",
   "mimetype": "text/x-python",
   "name": "python",
   "nbconvert_exporter": "python",
   "pygments_lexer": "ipython3",
   "version": "3.11.5"
  }
 },
 "nbformat": 4,
 "nbformat_minor": 5
}
